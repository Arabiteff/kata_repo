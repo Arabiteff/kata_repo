{
 "cells": [
  {
   "cell_type": "code",
   "execution_count": 1,
   "metadata": {},
   "outputs": [],
   "source": [
    "import os\n",
    "from pyspark.sql import SparkSession\n",
    "from datetime import datetime\n",
    "\n",
    "# Get the current datetime\n",
    "now = datetime.now()\n",
    "tech_year = now.strftime(\"%Y\")\n",
    "tech_month = now.strftime(\"%m\")\n",
    "tech_day = now.strftime(\"%d\")\n",
    "tech_hour = now.strftime(\"%H\")"
   ]
  },
  {
   "cell_type": "code",
   "execution_count": 2,
   "metadata": {},
   "outputs": [],
   "source": [
    "# Step 1: Initialize SparkSession\n",
    "spark = SparkSession.builder \\\n",
    "    .appName(\"ReadResultsData\") \\\n",
    "    .getOrCreate()\n"
   ]
  },
  {
   "cell_type": "markdown",
   "metadata": {},
   "source": [
    "## La compagnie avec le + de vols en cours"
   ]
  },
  {
   "cell_type": "code",
   "execution_count": 3,
   "metadata": {},
   "outputs": [
    {
     "name": "stdout",
     "output_type": "stream",
     "text": [
      "+-----------+---------------+------------+\n",
      "|airlineCode|   airline_name|flight_count|\n",
      "+-----------+---------------+------------+\n",
      "|        UAL|United Airlines|          75|\n",
      "+-----------+---------------+------------+\n",
      "\n"
     ]
    }
   ],
   "source": [
    "\n",
    "base_results_path = \"./data/results/airline_with_most_flights\"\n",
    "\n",
    "df_results = spark.read.parquet(f\"{base_results_path}/tech_year={tech_year}/tech_month={tech_month}/tech_day={tech_day}/tech_hour={tech_hour}\")\n",
    "df_results.show()\n"
   ]
  },
  {
   "cell_type": "markdown",
   "metadata": {},
   "source": [
    "## Pour chaque continent, la compagnie avec le + de vols régionaux actifs (continent d'origine == continent de destination)"
   ]
  },
  {
   "cell_type": "code",
   "execution_count": 4,
   "metadata": {},
   "outputs": [
    {
     "name": "stdout",
     "output_type": "stream",
     "text": [
      "+---------------+-----------+------------------+---------------------+\n",
      "|originContinent|airlineCode|      airline_name|regional_flight_count|\n",
      "+---------------+-----------+------------------+---------------------+\n",
      "|         africa|        ETH|Ethiopian Airlines|                    3|\n",
      "|           asia|        CSH| Shanghai Airlines|                    1|\n",
      "|         europe|        THY|  Turkish Airlines|                    3|\n",
      "|   northamerica|        AAL| American Airlines|                   18|\n",
      "|        oceania|        SIA|Singapore Airlines|                    3|\n",
      "|   southamerica|        LAN|    LATAM Airlines|                    3|\n",
      "+---------------+-----------+------------------+---------------------+\n",
      "\n"
     ]
    }
   ],
   "source": [
    "\n",
    "base_results_path = \"./data/results/Airline_with_most_regional_flights\"\n",
    "\n",
    "df_results = spark.read.parquet(f\"{base_results_path}/tech_year={tech_year}/tech_month={tech_month}/tech_day={tech_day}/tech_hour={tech_hour}\")\n",
    "df_results.show()\n"
   ]
  },
  {
   "cell_type": "markdown",
   "metadata": {},
   "source": [
    "## Le vol en cours avec le trajet le plus long"
   ]
  },
  {
   "cell_type": "code",
   "execution_count": 8,
   "metadata": {},
   "outputs": [
    {
     "name": "stdout",
     "output_type": "stream",
     "text": [
      "+--------+--------+-----------+------------------+----------------------+------------+----------------+-----------------+------------------+---------------------+----------------------+-----------------------+------------------+\n",
      "|flightID|aircraft|airlineCode|airportOrigineCode|airportDestinationCode|flightStatus|airportID_origin|airportLat_origin|airportLong_origin|airportID_destination|airportLat_destination|airportLong_destination|    flightDistance|\n",
      "+--------+--------+-----------+------------------+----------------------+------------+----------------+-----------------+------------------+---------------------+----------------------+-----------------------+------------------+\n",
      "|385ab5f4|    A359|        SIA|               SIN|                   JFK|           0|             SIN|         1.350189|          103.9944|                  JFK|             40.639751|               -73.7789|15340.566113064817|\n",
      "+--------+--------+-----------+------------------+----------------------+------------+----------------+-----------------+------------------+---------------------+----------------------+-----------------------+------------------+\n",
      "\n"
     ]
    }
   ],
   "source": [
    "\n",
    "base_results_path = \"./data/results/Longest_ongoing_flight\"\n",
    "\n",
    "df_results = spark.read.parquet(f\"{base_results_path}/tech_year={tech_year}/tech_month={tech_month}/tech_day={tech_day}/tech_hour={tech_hour}\")\n",
    "df_results.show()\n"
   ]
  },
  {
   "cell_type": "markdown",
   "metadata": {},
   "source": [
    "## Pour chaque continent, la longueur de vol moyenne"
   ]
  },
  {
   "cell_type": "code",
   "execution_count": 10,
   "metadata": {},
   "outputs": [
    {
     "name": "stdout",
     "output_type": "stream",
     "text": [
      "+---------------+-----------------------+\n",
      "|originContinent|average_flight_distance|\n",
      "+---------------+-----------------------+\n",
      "|   southamerica|      7059.870901990978|\n",
      "|         europe|      7151.865823993102|\n",
      "|        oceania|      8245.199736175224|\n",
      "|         africa|      6835.541300866597|\n",
      "|   northamerica|      7954.107483003738|\n",
      "|       maldives|      7244.226131744908|\n",
      "|           asia|      7224.454942499573|\n",
      "+---------------+-----------------------+\n",
      "\n"
     ]
    }
   ],
   "source": [
    "\n",
    "base_results_path = \"./data/results/Average_flight_distance_by_continent\"\n",
    "\n",
    "df_results = spark.read.parquet(f\"{base_results_path}/tech_year={tech_year}/tech_month={tech_month}/tech_day={tech_day}/tech_hour={tech_hour}\")\n",
    "df_results.show()\n"
   ]
  },
  {
   "cell_type": "markdown",
   "metadata": {},
   "source": [
    "## L'entreprise constructeur d'avions avec le plus de vols actifs"
   ]
  },
  {
   "cell_type": "code",
   "execution_count": 11,
   "metadata": {},
   "outputs": [
    {
     "name": "stdout",
     "output_type": "stream",
     "text": [
      "+--------+-------------------+\n",
      "|aircraft|active_flight_count|\n",
      "+--------+-------------------+\n",
      "|    B77W|                180|\n",
      "+--------+-------------------+\n",
      "\n"
     ]
    }
   ],
   "source": [
    "\n",
    "base_results_path = \"./data/results/Aircraft_manufacturer_with_most_active_flights\"\n",
    "\n",
    "df_results = spark.read.parquet(f\"{base_results_path}/tech_year={tech_year}/tech_month={tech_month}/tech_day={tech_day}/tech_hour={tech_hour}\")\n",
    "df_results.show()\n"
   ]
  }
 ],
 "metadata": {
  "kernelspec": {
   "display_name": "kata-env",
   "language": "python",
   "name": "python3"
  },
  "language_info": {
   "codemirror_mode": {
    "name": "ipython",
    "version": 3
   },
   "file_extension": ".py",
   "mimetype": "text/x-python",
   "name": "python",
   "nbconvert_exporter": "python",
   "pygments_lexer": "ipython3",
   "version": "3.11.7"
  }
 },
 "nbformat": 4,
 "nbformat_minor": 2
}
